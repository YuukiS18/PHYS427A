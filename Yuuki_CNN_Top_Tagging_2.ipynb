{
 "cells": [
  {
   "cell_type": "markdown",
   "id": "c76bd7e6",
   "metadata": {},
   "source": [
    "# Lab 8 Report: \n",
    "## FINAL PROJECT STRATEGIC PLANNING"
   ]
  },
  {
   "cell_type": "markdown",
   "id": "3f5ed902",
   "metadata": {},
   "source": [
    "### Lab 8 Instruction: https://canvas.uw.edu/courses/1548925/files/92225287?wrap=1"
   ]
  },
  {
   "cell_type": "markdown",
   "id": "0098c149",
   "metadata": {},
   "source": [
    "### Team Members:"
   ]
  },
  {
   "cell_type": "markdown",
   "id": "36869478",
   "metadata": {},
   "source": [
    "### Dataset for your project:"
   ]
  },
  {
   "cell_type": "markdown",
   "id": "7b08ff02",
   "metadata": {},
   "source": [
    "#### Feel free to delete or modify pre-written markdown cells below the line"
   ]
  },
  {
   "cell_type": "markdown",
   "id": "3fe993be",
   "metadata": {},
   "source": [
    "---"
   ]
  },
  {
   "cell_type": "markdown",
   "id": "596ea344",
   "metadata": {},
   "source": [
    "## Understanding the Data"
   ]
  },
  {
   "cell_type": "code",
   "execution_count": 1,
   "id": "53027328",
   "metadata": {},
   "outputs": [],
   "source": [
    "%matplotlib inline\n",
    "import numpy as np\n",
    "import pandas as pd\n",
    "import torch\n",
    "import matplotlib.pyplot as plt\n",
    "from tqdm import tqdm\n",
    "import math as math\n",
    "from IPython.display import Image\n",
    "import os\n",
    "os.chdir('C:/Users/yuuki/jupyter-workspace/Lab_8_YuukiSawanoi/jets/jets')"
   ]
  },
  {
   "cell_type": "markdown",
   "id": "526dd6ab",
   "metadata": {},
   "source": [
    "## Understanding the Task"
   ]
  },
  {
   "cell_type": "code",
   "execution_count": 2,
   "id": "ff66f4af",
   "metadata": {},
   "outputs": [],
   "source": [
    "#size of image\n",
    "x = 64\n",
    "y = 64\n",
    "#data type of numbers in image\n",
    "data_type = np.float16"
   ]
  },
  {
   "cell_type": "code",
   "execution_count": 3,
   "id": "e0cecbb0",
   "metadata": {},
   "outputs": [],
   "source": [
    "trs = 20000\n",
    "tst = 1000\n",
    "val = 1000"
   ]
  },
  {
   "cell_type": "code",
   "execution_count": 4,
   "id": "2fc0cffc",
   "metadata": {},
   "outputs": [],
   "source": [
    "def center2(arr, c1x, c1y, c2x, c2y, c3x, c3y):\n",
    "    c3x = np.sum(arr[:,1]*arr[:,3])\n",
    "    c3y = np.sum(arr[:,2]*arr[:,3])\n",
    "    return [c3x, c3y, c2x, c2y, c1x, c1y]"
   ]
  },
  {
   "cell_type": "code",
   "execution_count": 5,
   "id": "ba9d6d76",
   "metadata": {},
   "outputs": [],
   "source": [
    "def image(arr, count, ix, iy, data_type):\n",
    "    x = ix\n",
    "    y = iy\n",
    "    im = np.zeros((1,x,y))\n",
    "    c = np.zeros(6)\n",
    "    c = center2(arr, 0, 0, 0, 0, 0, 0)\n",
    "    if c[2] != 0:\n",
    "        adj = math.atan(c[3] / c[2])\n",
    "        if c[2] < 0:\n",
    "            adj += math.pi\n",
    "    elif c[3] > 0:\n",
    "        adj = math.pi / 2\n",
    "    else:\n",
    "        adj = - math.pi / 2\n",
    "    \n",
    "    theta = 0\n",
    "    if c[0] != 0:\n",
    "        theta = (math.atan(c[1] / c[0]))\n",
    "        if c[0] < 0:\n",
    "            theta += math.pi\n",
    "    elif c[1] > 0:\n",
    "        theta = math.pi / 2\n",
    "    else:\n",
    "        theta = - math.pi / 2\n",
    "    flip = 1\n",
    "    if math.sin(theta - adj) < 0:\n",
    "        flip = -1\n",
    "        \n",
    "    new_x = (arr[:,1]*math.cos(-adj)-arr[:,2]*math.sin(-adj))\n",
    "    new_y = ((arr[:,2]*math.cos(-adj)+arr[:,1]*math.sin(-adj))*flip)\n",
    "    \n",
    "    #arr[:,1] = new_x\n",
    "    #arr[:,2] = flip*new_y\n",
    "\n",
    "    length = len(new_x)\n",
    "    new_x[0] = 0\n",
    "    new_y[0] = 0\n",
    "    j = np.zeros(length).astype(int)\n",
    "    p = np.mod(new_x*x+x*7/16,x).astype(int)\n",
    "    q = np.mod(new_y*y+y/2,y).astype(int)\n",
    "\n",
    "    im[j,p,q] += np.maximum(np.log(arr[:,3])+13,j)\n",
    "    return im.astype(data_type)"
   ]
  },
  {
   "cell_type": "code",
   "execution_count": 6,
   "id": "b770c5e2",
   "metadata": {},
   "outputs": [],
   "source": [
    "def hlf(input_val, count, data_type):\n",
    "    length_arr = []\n",
    "    avr_dis_arr = []\n",
    "    var_R_arr = []\n",
    "    \n",
    "    #Number of Particles\n",
    "    length_arr.append(len(input_val))\n",
    "        \n",
    "    #Average distance from Centroid assuming Energy => Number of Particles at location    \n",
    "    a1 = np.sum(input_val[:,3]*input_val[:,1])\n",
    "    a2 = np.sum(input_val[:,3]*input_val[:,2])\n",
    "    avr_dis = np.sum(np.sqrt((input_val[:,1]-a1)**2+(input_val[:,2]-a2)**2)*input_val[:,3])\n",
    "    avr_dis_arr.append(avr_dis)\n",
    "    \n",
    "    #Variance of Distance Array\n",
    "    var_dis = np.sum(((input_val[:,1]-a1)**2+(input_val[:,2]-a2)**2)*input_val[:,3])-avr_dis**2\n",
    "    \n",
    "    #Average R treating energy as number of particles\n",
    "    avr_R = np.sum(input_val[:,4]*input_val[:,3])\n",
    "    \n",
    "    #Variance of R treating energy as number of particles\n",
    "    var_R = np.sum(input_val[:,4]**2*input_val[:,3])-avr_R**2\n",
    "    var_R_arr.append(var_R)\n",
    "    \n",
    "    ret = np.vstack([length_arr, avr_dis_arr, var_R_arr]).transpose()\n",
    "    if count == 1:\n",
    "        print(ret)\n",
    "    \n",
    "    return ret.astype(data_type)"
   ]
  },
  {
   "cell_type": "markdown",
   "id": "f275694a",
   "metadata": {},
   "source": []
  },
  {
   "cell_type": "code",
   "execution_count": 7,
   "id": "129ff67b",
   "metadata": {},
   "outputs": [
    {
     "name": "stderr",
     "output_type": "stream",
     "text": [
      "  0%|                                                                             | 68/987683 [00:00<24:20, 676.13it/s]"
     ]
    },
    {
     "name": "stdout",
     "output_type": "stream",
     "text": [
      "[[4.20000000e+01 4.99749407e-02 5.98328973e-03]]\n"
     ]
    },
    {
     "name": "stderr",
     "output_type": "stream",
     "text": [
      "  2%|█▌                                                                      | 22000/987683 [02:36<1:54:50, 140.15it/s]\n"
     ]
    },
    {
     "data": {
      "text/plain": [
       "<Figure size 432x8640 with 0 Axes>"
      ]
     },
     "metadata": {},
     "output_type": "display_data"
    },
    {
     "data": {
      "text/plain": [
       "<Figure size 432x8640 with 0 Axes>"
      ]
     },
     "metadata": {},
     "output_type": "display_data"
    }
   ],
   "source": [
    "files = trs+tst+val\n",
    "count = 0\n",
    "dataset = np.zeros((0,x, y))\n",
    "datas = []\n",
    "target = np.zeros((files,))\n",
    "plt.figure(figsize = (6, 120))\n",
    "m = 0\n",
    "s = 0\n",
    "\n",
    "files = trs+tst+val\n",
    "count = 0\n",
    "dataset = np.zeros((files,x,y)).astype(data_type)\n",
    "highl = np.zeros((files, 3)).astype(data_type)\n",
    "target = np.zeros((files,))\n",
    "plt.figure(figsize = (6, 120))\n",
    "m = 0\n",
    "s = 0\n",
    "for file in tqdm(os.listdir()):\n",
    "    if files <= count:\n",
    "        break\n",
    "    with np.load(file) as data:\n",
    "        t = data['y']\n",
    "        #if (t[0] + t[1]) == 0:\n",
    "        #    continue\n",
    "        target[count] = (0 * t[0] + 1 * t[1] + 2 * t[2] + 3 * t[3] + 4 * t[4])\n",
    "        a = image(data['x'], count, x, y, data_type)\n",
    "        highl[count] = hlf(data['x'], count, data_type)\n",
    "        dataset[count] = a\n",
    "        count += 1"
   ]
  },
  {
   "cell_type": "code",
   "execution_count": 8,
   "id": "077ea3a6",
   "metadata": {},
   "outputs": [
    {
     "name": "stderr",
     "output_type": "stream",
     "text": [
      "100%|█████████████████████████████████████████████████████████████████████████| 22000/22000 [00:00<00:00, 83711.81it/s]\n"
     ]
    },
    {
     "data": {
      "image/png": "[encoded data removed]",
      "text/plain": [
       "<Figure size 360x1800 with 5 Axes>"
      ]
     },
     "metadata": {
      "needs_background": "light"
     },
     "output_type": "display_data"
    }
   ],
   "source": [
    "arr0 = np.zeros((5, len(dataset[0]), len(dataset[0][0])))\n",
    "for i in tqdm(range(len(dataset))):\n",
    "    arr0[round(target[i])] += dataset[i]\n",
    "            \n",
    "arr1 = np.zeros((5, len(dataset[0]), len(dataset[0][0])))\n",
    "plt.figure(figsize = (5, 25))\n",
    "arr2 = [\"Gluon\", \"Light Quark\", \"W-Boson\", \"Z-boson\", \"Top Quark\"]\n",
    "for i in range(5):\n",
    "    for p in range(len(dataset[i])):\n",
    "        for q in range(len(dataset[i][p])):\n",
    "            if(arr0[i][p][q] > 0):\n",
    "                arr1[i][p][q] = max(math.log(arr0[i][p][q]) - 2, 0)\n",
    "    plt.subplot(5, 1, i + 1)\n",
    "    plt.imshow(arr1[i], cmap = 'Greys')\n",
    "    plt.ylabel(\"eta\")\n",
    "    plt.xlabel(\"phi\")\n",
    "    plt.title(arr2[i])"
   ]
  },
  {
   "cell_type": "code",
   "execution_count": 9,
   "id": "e4321365",
   "metadata": {},
   "outputs": [],
   "source": [
    "from sklearn.preprocessing import StandardScaler\n",
    "\n",
    "train_data = dataset[tst:].reshape((trs+val,1,  x, y))\n",
    "test_data = dataset[:tst].reshape((tst,1,  x, y))\n",
    "train_highl = highl[tst:]\n",
    "test_highl = highl[:tst]\n",
    "#train_data_flat = train_data.reshape((trs+val, 100 * 100))\n",
    "#test_data_flat = test_data.reshape((tst, 100 * 100))\n",
    "scaler = StandardScaler()\n",
    "#train_data = scaler.fit_transform(train_data_flat).reshape((trs+val,1,  100, 100))\n",
    "#test_data = scaler.fit_transform(test_data_flat).reshape((tst,1,  100, 100))\n",
    "train_target = target[tst:]\n",
    "test_target = target[:tst]\n"
   ]
  },
  {
   "cell_type": "code",
   "execution_count": 10,
   "id": "eb3db67a",
   "metadata": {},
   "outputs": [
    {
     "name": "stdout",
     "output_type": "stream",
     "text": [
      "(21000, 1, 64, 64) (1000, 1, 64, 64) (21000,) (1000,) (21000, 3) (1000, 3)\n"
     ]
    }
   ],
   "source": [
    "print(train_data.shape, test_data.shape, train_target.shape, test_target.shape, train_highl.shape, test_highl.shape)"
   ]
  },
  {
   "cell_type": "code",
   "execution_count": 11,
   "id": "f2e3c36c",
   "metadata": {},
   "outputs": [],
   "source": [
    "validation_data = train_data[:val]\n",
    "validation_target = train_target[:val]\n",
    "validation_highl = train_highl[:val]\n",
    "\n",
    "train_data = train_data[val:]\n",
    "train_target = train_target[val:]\n",
    "train_highl = train_highl[val:]"
   ]
  },
  {
   "cell_type": "code",
   "execution_count": 20,
   "id": "75dfda70",
   "metadata": {},
   "outputs": [],
   "source": [
    "class CNNModel(torch.nn.Module):\n",
    "    \n",
    "    def __init__(self, x, y):\n",
    "        \n",
    "        super(CNNModel, self).__init__()\n",
    "        \n",
    "        self.cnn1 = torch.nn.Conv2d(in_channels=1, out_channels=32, \n",
    "                              kernel_size=3, stride=1, padding = 1)\n",
    "    \n",
    "        self.cnn2 = torch.nn.Conv2d(in_channels=32, out_channels=16, \n",
    "                              kernel_size=3, stride=1, padding = 1)\n",
    "        \n",
    "        self.cnn3 = torch.nn.Conv2d(in_channels=16, out_channels=16, \n",
    "                              kernel_size=3, stride=1, padding = 1)\n",
    "        \n",
    "        self.maxpool1 = torch.nn.MaxPool2d(kernel_size=2)\n",
    "        self.maxpool2 = torch.nn.MaxPool2d(kernel_size=2)\n",
    "        self.maxpool3 = torch.nn.MaxPool2d(kernel_size=2)\n",
    "        \n",
    "        self.fc1 = torch.nn.Linear((x//2//2//2)*(y//2//2//2)*64 + 3, 128)\n",
    "        self.fc2 = torch.nn.Linear(128+3,256)\n",
    "        self.fc3 = torch.nn.Linear(256+3,256)\n",
    "        self.fc4 = torch.nn.Linear(256+3,5)\n",
    "        \n",
    "        self.dropout = torch.nn.Dropout(p = 0.5)\n",
    "        \n",
    "        \n",
    "    def forward(self, x, x2):\n",
    "        \n",
    "        out = self.dropout(x)\n",
    "        out = torch.nn.functional.relu(self.cnn1(out)) \n",
    "        out = torch.nn.functional.relu(self.cnn2(out))\n",
    "        \n",
    "        out = self.maxpool1(out)\n",
    "        \n",
    "\n",
    "        out = torch.nn.functional.relu(self.cnn3(out))\n",
    "        out = torch.nn.functional.relu(self.cnn3(out))\n",
    "        out = self.maxpool2(out)\n",
    "        \n",
    "        #conv3_out = torch.nn.functional.relu(self.cnn3(pool2_out))    \n",
    "        #pool3_out = self.maxpool3(conv3_out)\n",
    "        \n",
    "        fcn_input = out.view(out.size(0), -1)\n",
    "        fcn_input = torch.cat((fcn_input, x2), dim=-1)\n",
    "        \n",
    "        out = self.fc1((fcn_input))\n",
    "        out = torch.cat((out, x2), dim=-1)\n",
    "        out = self.fc2(out)\n",
    "        out = torch.cat((out, x2), dim=-1)\n",
    "        out = self.fc3(out)\n",
    "        out = torch.cat((out, x2), dim=-1)\n",
    "        out = self.fc4(out)\n",
    "        \n",
    "        return out"
   ]
  },
  {
   "cell_type": "code",
   "execution_count": 21,
   "id": "435481ab",
   "metadata": {},
   "outputs": [
    {
     "data": {
      "text/plain": [
       "CNNModel(\n",
       "  (cnn1): Conv2d(1, 32, kernel_size=(3, 3), stride=(1, 1), padding=(1, 1))\n",
       "  (cnn2): Conv2d(32, 16, kernel_size=(3, 3), stride=(1, 1), padding=(1, 1))\n",
       "  (cnn3): Conv2d(16, 16, kernel_size=(3, 3), stride=(1, 1), padding=(1, 1))\n",
       "  (maxpool1): MaxPool2d(kernel_size=2, stride=2, padding=0, dilation=1, ceil_mode=False)\n",
       "  (maxpool2): MaxPool2d(kernel_size=2, stride=2, padding=0, dilation=1, ceil_mode=False)\n",
       "  (maxpool3): MaxPool2d(kernel_size=2, stride=2, padding=0, dilation=1, ceil_mode=False)\n",
       "  (fc1): Linear(in_features=4099, out_features=128, bias=True)\n",
       "  (fc2): Linear(in_features=131, out_features=256, bias=True)\n",
       "  (fc3): Linear(in_features=259, out_features=256, bias=True)\n",
       "  (fc4): Linear(in_features=259, out_features=5, bias=True)\n",
       "  (dropout): Dropout(p=0.5, inplace=False)\n",
       ")"
      ]
     },
     "execution_count": 21,
     "metadata": {},
     "output_type": "execute_result"
    }
   ],
   "source": [
    "# Fix the random seed so that model performance is reproducible\n",
    "torch.manual_seed(55)\n",
    "\n",
    "# Initialize your CNN model\n",
    "\n",
    "model = CNNModel(x,y)\n",
    "\n",
    "# Define learning rate, epoch and batchsize for mini-batch gradient\n",
    "\n",
    "learning_rate = 0.00005\n",
    "epochs = 30\n",
    "batchsize = 250\n",
    "\n",
    "# Define loss function and optimizer\n",
    "\n",
    "loss_func =torch.nn.CrossEntropyLoss()\n",
    "optimizer = torch.optim.Adam(model.parameters(), lr = learning_rate)\n",
    "\n",
    "model.cuda()"
   ]
  },
  {
   "cell_type": "code",
   "execution_count": null,
   "id": "8931b861",
   "metadata": {},
   "outputs": [],
   "source": []
  },
  {
   "cell_type": "code",
   "execution_count": 22,
   "id": "01847fa8",
   "metadata": {},
   "outputs": [],
   "source": [
    "train_loss_list = []\n",
    "train_acc_list = []\n",
    "validation_accuracy_list = np.zeros((epochs,))"
   ]
  },
  {
   "cell_type": "code",
   "execution_count": 23,
   "id": "9aa72642",
   "metadata": {},
   "outputs": [
    {
     "name": "stderr",
     "output_type": "stream",
     "text": [
      "\r",
      "  0%|                                                                                           | 0/30 [00:00<?, ?it/s]"
     ]
    },
    {
     "name": "stdout",
     "output_type": "stream",
     "text": [
      "Epoch: 0 Validation Accuracy: 22.4%\n"
     ]
    },
    {
     "name": "stderr",
     "output_type": "stream",
     "text": [
      "\r",
      "  3%|██▊                                                                                | 1/30 [00:04<02:05,  4.32s/it]"
     ]
    },
    {
     "name": "stdout",
     "output_type": "stream",
     "text": [
      "Epoch: 1 Validation Accuracy: 52.6%\n"
     ]
    },
    {
     "name": "stderr",
     "output_type": "stream",
     "text": [
      "\r",
      "  7%|█████▌                                                                             | 2/30 [00:08<02:00,  4.29s/it]"
     ]
    },
    {
     "name": "stdout",
     "output_type": "stream",
     "text": [
      "Epoch: 2 Validation Accuracy: 54.5%\n"
     ]
    },
    {
     "name": "stderr",
     "output_type": "stream",
     "text": [
      "\r",
      " 10%|████████▎                                                                          | 3/30 [00:12<01:55,  4.29s/it]"
     ]
    },
    {
     "name": "stdout",
     "output_type": "stream",
     "text": [
      "Epoch: 3 Validation Accuracy: 56.4%\n"
     ]
    },
    {
     "name": "stderr",
     "output_type": "stream",
     "text": [
      "\r",
      " 13%|███████████                                                                        | 4/30 [00:17<01:51,  4.29s/it]"
     ]
    },
    {
     "name": "stdout",
     "output_type": "stream",
     "text": [
      "Epoch: 4 Validation Accuracy: 55.3%\n"
     ]
    },
    {
     "name": "stderr",
     "output_type": "stream",
     "text": [
      "\r",
      " 17%|█████████████▊                                                                     | 5/30 [00:21<01:47,  4.29s/it]"
     ]
    },
    {
     "name": "stdout",
     "output_type": "stream",
     "text": [
      "Epoch: 5 Validation Accuracy: 56.7%\n"
     ]
    },
    {
     "name": "stderr",
     "output_type": "stream",
     "text": [
      "\r",
      " 20%|████████████████▌                                                                  | 6/30 [00:25<01:42,  4.29s/it]"
     ]
    },
    {
     "name": "stdout",
     "output_type": "stream",
     "text": [
      "Epoch: 6 Validation Accuracy: 56.2%\n"
     ]
    },
    {
     "name": "stderr",
     "output_type": "stream",
     "text": [
      "\r",
      " 23%|███████████████████▎                                                               | 7/30 [00:30<01:38,  4.29s/it]"
     ]
    },
    {
     "name": "stdout",
     "output_type": "stream",
     "text": [
      "Epoch: 7 Validation Accuracy: 57.1%\n"
     ]
    },
    {
     "name": "stderr",
     "output_type": "stream",
     "text": [
      "\r",
      " 27%|██████████████████████▏                                                            | 8/30 [00:34<01:34,  4.29s/it]"
     ]
    },
    {
     "name": "stdout",
     "output_type": "stream",
     "text": [
      "Epoch: 8 Validation Accuracy: 57.3%\n"
     ]
    },
    {
     "name": "stderr",
     "output_type": "stream",
     "text": [
      "\r",
      " 30%|████████████████████████▉                                                          | 9/30 [00:38<01:30,  4.29s/it]"
     ]
    },
    {
     "name": "stdout",
     "output_type": "stream",
     "text": [
      "Epoch: 9 Validation Accuracy: 58.0%\n"
     ]
    },
    {
     "name": "stderr",
     "output_type": "stream",
     "text": [
      "\r",
      " 33%|███████████████████████████▎                                                      | 10/30 [00:42<01:25,  4.30s/it]"
     ]
    },
    {
     "name": "stdout",
     "output_type": "stream",
     "text": [
      "Epoch: 10 Validation Accuracy: 57.8%\n"
     ]
    },
    {
     "name": "stderr",
     "output_type": "stream",
     "text": [
      "\r",
      " 37%|██████████████████████████████                                                    | 11/30 [00:47<01:21,  4.29s/it]"
     ]
    },
    {
     "name": "stdout",
     "output_type": "stream",
     "text": [
      "Epoch: 11 Validation Accuracy: 57.4%\n"
     ]
    },
    {
     "name": "stderr",
     "output_type": "stream",
     "text": [
      "\r",
      " 40%|████████████████████████████████▊                                                 | 12/30 [00:51<01:17,  4.29s/it]"
     ]
    },
    {
     "name": "stdout",
     "output_type": "stream",
     "text": [
      "Epoch: 12 Validation Accuracy: 56.2%\n"
     ]
    },
    {
     "name": "stderr",
     "output_type": "stream",
     "text": [
      "\r",
      " 43%|███████████████████████████████████▌                                              | 13/30 [00:55<01:13,  4.29s/it]"
     ]
    },
    {
     "name": "stdout",
     "output_type": "stream",
     "text": [
      "Epoch: 13 Validation Accuracy: 57.3%\n"
     ]
    },
    {
     "name": "stderr",
     "output_type": "stream",
     "text": [
      "\r",
      " 47%|██████████████████████████████████████▎                                           | 14/30 [01:00<01:08,  4.29s/it]"
     ]
    },
    {
     "name": "stdout",
     "output_type": "stream",
     "text": [
      "Epoch: 14 Validation Accuracy: 58.5%\n"
     ]
    },
    {
     "name": "stderr",
     "output_type": "stream",
     "text": [
      "\r",
      " 50%|█████████████████████████████████████████                                         | 15/30 [01:04<01:04,  4.30s/it]"
     ]
    },
    {
     "name": "stdout",
     "output_type": "stream",
     "text": [
      "Epoch: 15 Validation Accuracy: 57.0%\n"
     ]
    },
    {
     "name": "stderr",
     "output_type": "stream",
     "text": [
      "\r",
      " 53%|███████████████████████████████████████████▋                                      | 16/30 [01:08<01:00,  4.31s/it]"
     ]
    },
    {
     "name": "stdout",
     "output_type": "stream",
     "text": [
      "Epoch: 16 Validation Accuracy: 55.2%\n"
     ]
    },
    {
     "name": "stderr",
     "output_type": "stream",
     "text": [
      "\r",
      " 57%|██████████████████████████████████████████████▍                                   | 17/30 [01:13<00:56,  4.37s/it]"
     ]
    },
    {
     "name": "stdout",
     "output_type": "stream",
     "text": [
      "Epoch: 17 Validation Accuracy: 56.4%\n"
     ]
    },
    {
     "name": "stderr",
     "output_type": "stream",
     "text": [
      "\r",
      " 60%|█████████████████████████████████████████████████▏                                | 18/30 [01:17<00:52,  4.37s/it]"
     ]
    },
    {
     "name": "stdout",
     "output_type": "stream",
     "text": [
      "Epoch: 18 Validation Accuracy: 58.5%\n"
     ]
    },
    {
     "name": "stderr",
     "output_type": "stream",
     "text": [
      "\r",
      " 63%|███████████████████████████████████████████████████▉                              | 19/30 [01:22<00:48,  4.38s/it]"
     ]
    },
    {
     "name": "stdout",
     "output_type": "stream",
     "text": [
      "Epoch: 19 Validation Accuracy: 57.7%\n"
     ]
    },
    {
     "name": "stderr",
     "output_type": "stream",
     "text": [
      "\r",
      " 67%|██████████████████████████████████████████████████████▋                           | 20/30 [01:26<00:44,  4.41s/it]"
     ]
    },
    {
     "name": "stdout",
     "output_type": "stream",
     "text": [
      "Epoch: 20 Validation Accuracy: 56.1%\n"
     ]
    },
    {
     "name": "stderr",
     "output_type": "stream",
     "text": [
      "\r",
      " 70%|█████████████████████████████████████████████████████████▍                        | 21/30 [01:31<00:40,  4.48s/it]"
     ]
    },
    {
     "name": "stdout",
     "output_type": "stream",
     "text": [
      "Epoch: 21 Validation Accuracy: 56.3%\n"
     ]
    },
    {
     "name": "stderr",
     "output_type": "stream",
     "text": [
      "\r",
      " 73%|████████████████████████████████████████████████████████████▏                     | 22/30 [01:35<00:35,  4.48s/it]"
     ]
    },
    {
     "name": "stdout",
     "output_type": "stream",
     "text": [
      "Epoch: 22 Validation Accuracy: 55.7%\n"
     ]
    },
    {
     "name": "stderr",
     "output_type": "stream",
     "text": [
      "\r",
      " 77%|██████████████████████████████████████████████████████████████▊                   | 23/30 [01:40<00:31,  4.55s/it]"
     ]
    },
    {
     "name": "stdout",
     "output_type": "stream",
     "text": [
      "Epoch: 23 Validation Accuracy: 57.5%\n"
     ]
    },
    {
     "name": "stderr",
     "output_type": "stream",
     "text": [
      "\r",
      " 80%|█████████████████████████████████████████████████████████████████▌                | 24/30 [01:44<00:26,  4.49s/it]"
     ]
    },
    {
     "name": "stdout",
     "output_type": "stream",
     "text": [
      "Epoch: 24 Validation Accuracy: 58.0%\n"
     ]
    },
    {
     "name": "stderr",
     "output_type": "stream",
     "text": [
      "\r",
      " 83%|████████████████████████████████████████████████████████████████████▎             | 25/30 [01:49<00:22,  4.45s/it]"
     ]
    },
    {
     "name": "stdout",
     "output_type": "stream",
     "text": [
      "Epoch: 25 Validation Accuracy: 58.7%\n"
     ]
    },
    {
     "name": "stderr",
     "output_type": "stream",
     "text": [
      "\r",
      " 87%|███████████████████████████████████████████████████████████████████████           | 26/30 [01:53<00:17,  4.42s/it]"
     ]
    },
    {
     "name": "stdout",
     "output_type": "stream",
     "text": [
      "Epoch: 26 Validation Accuracy: 57.5%\n"
     ]
    },
    {
     "name": "stderr",
     "output_type": "stream",
     "text": [
      "\r",
      " 90%|█████████████████████████████████████████████████████████████████████████▊        | 27/30 [01:57<00:13,  4.41s/it]"
     ]
    },
    {
     "name": "stdout",
     "output_type": "stream",
     "text": [
      "Epoch: 27 Validation Accuracy: 57.8%\n"
     ]
    },
    {
     "name": "stderr",
     "output_type": "stream",
     "text": [
      "\r",
      " 93%|████████████████████████████████████████████████████████████████████████████▌     | 28/30 [02:02<00:08,  4.40s/it]"
     ]
    },
    {
     "name": "stdout",
     "output_type": "stream",
     "text": [
      "Epoch: 28 Validation Accuracy: 57.1%\n"
     ]
    },
    {
     "name": "stderr",
     "output_type": "stream",
     "text": [
      "\r",
      " 97%|███████████████████████████████████████████████████████████████████████████████▎  | 29/30 [02:06<00:04,  4.41s/it]"
     ]
    },
    {
     "name": "stdout",
     "output_type": "stream",
     "text": [
      "Epoch: 29 Validation Accuracy: 57.2%\n"
     ]
    },
    {
     "name": "stderr",
     "output_type": "stream",
     "text": [
      "100%|██████████████████████████████████████████████████████████████████████████████████| 30/30 [02:10<00:00,  4.37s/it]\n"
     ]
    }
   ],
   "source": [
    "import tqdm # Use \"for epoch in tqdm.trange(epochs):\" to see the progress bar\n",
    "\n",
    "# Convert the training, validation, testing dataset (NumPy arrays) into torch tensors\n",
    "# Split your training features/targets into mini-batches if using mini-batch gradient\n",
    "\n",
    "train_inputs = torch.from_numpy(train_data).float()\n",
    "#train_batches_features = torch.split(torch.from_numpy(train_data), batchsize).float().cuda()\n",
    "\n",
    "train_targets = torch.from_numpy(train_target).long().cuda()\n",
    "train_hinputs = torch.from_numpy(train_highl).float().cuda()\n",
    "\n",
    "#train_batches_targets = torch.split(torch.from_numpy(train_target).long(), batchsize).cuda()\n",
    "\n",
    "validation_inputs = torch.from_numpy(validation_data).float().cuda()\n",
    "validation_targets = torch.from_numpy(validation_target).long().cuda()\n",
    "validation_hinputs = torch.from_numpy(validation_highl).float().cuda()\n",
    "\n",
    "train_batches_features = torch.split(train_inputs, batchsize)\n",
    "train_batches_hinputs = torch.split(train_hinputs, batchsize)\n",
    "train_batches_targets = torch.split(train_targets, batchsize)\n",
    "\n",
    "batch_split_num = len(train_batches_features)\n",
    "\n",
    "# Training Loop ---------------------------------------------------------------------------------------\n",
    "\n",
    "for epoch in tqdm.trange(epochs):\n",
    "    if epoch % 10 == 0:\n",
    "        for g in optimizer.param_groups:\n",
    "            g['lr'] = g['lr'] / 2\n",
    "    for k in range(batch_split_num):\n",
    "        optimizer.zero_grad()\n",
    "    \n",
    "        input_batch = train_batches_features[k].cuda()\n",
    "        output_targets = train_batches_targets[k].cuda()\n",
    "        hinputs_batch = train_batches_hinputs[k].cuda()\n",
    "    \n",
    "        train_batch_outputs = model(input_batch, hinputs_batch)\n",
    "\n",
    "        loss = loss_func(train_batch_outputs, output_targets)\n",
    "\n",
    "        correct = (torch.argmax(train_batch_outputs, dim=1) == \n",
    "                   output_targets).type(torch.FloatTensor)\n",
    "        \n",
    "        train_acc_list.append(correct.mean())\n",
    "        \n",
    "        train_loss_list.append(loss.item())\n",
    "\n",
    "        loss.backward()\n",
    "\n",
    "        optimizer.step()\n",
    "\n",
    "    # Compute Validation Accuracy ----------------------------------------------------------------------\n",
    "\n",
    "    with torch.no_grad():\n",
    "\n",
    "        validation_outputs = model(validation_inputs, validation_hinputs)\n",
    "        \n",
    "        correct = (torch.argmax(validation_outputs, dim=1) == \n",
    "                   validation_targets).type(torch.FloatTensor)\n",
    "        \n",
    "        print(\"Epoch: \"+ str(epoch), \n",
    "              \"Validation Accuracy: \" + str(np.round(correct.mean().numpy() * 100, 2)) + '%', flush=True)\n",
    "\n",
    "        validation_accuracy_list[epoch] = correct.mean()\n"
   ]
  },
  {
   "cell_type": "code",
   "execution_count": 24,
   "id": "db5a19a1",
   "metadata": {},
   "outputs": [],
   "source": [
    "# Seaborn for prettier plot\n",
    "\n",
    "import seaborn as sns\n",
    "\n",
    "sns.set(style = 'whitegrid', font_scale = 1)"
   ]
  },
  {
   "cell_type": "code",
   "execution_count": 25,
   "id": "907d378b",
   "metadata": {},
   "outputs": [
    {
     "data": {
      "image/png": "[encoded data removed]",
      "text/plain": [
       "<Figure size 1080x648 with 3 Axes>"
      ]
     },
     "metadata": {},
     "output_type": "display_data"
    }
   ],
   "source": [
    "# Visualize training loss\n",
    "\n",
    "plt.figure(figsize = (15, 9))\n",
    "\n",
    "plt.subplot(3, 1, 1)\n",
    "plt.plot(train_loss_list, linewidth = 3)\n",
    "plt.ylabel(\"training loss\")\n",
    "plt.xlabel(\"iterations\")\n",
    "sns.despine()\n",
    "\n",
    "plt.subplot(3, 1, 2)\n",
    "plt.plot(train_acc_list, linewidth = 3)\n",
    "plt.ylabel(\"training accuracy\")\n",
    "plt.xlabel(\"iterations\")\n",
    "sns.despine()\n",
    "\n",
    "plt.subplot(3, 1, 3)\n",
    "plt.plot(validation_accuracy_list, linewidth = 3, color = 'gold')\n",
    "plt.ylabel(\"validation accuracy\")\n",
    "sns.despine()"
   ]
  },
  {
   "cell_type": "code",
   "execution_count": 26,
   "id": "1088fcd8",
   "metadata": {},
   "outputs": [
    {
     "name": "stdout",
     "output_type": "stream",
     "text": [
      "[ 70.  71. 103.  99.  62.]\n",
      "[198. 184. 207. 192. 219.]\n",
      "Accuracy of Gluon: 64.64646464646465%\n",
      "Accuracy of Light Quark: 61.41304347826087%\n",
      "Accuracy of W-Boson: 50.24154589371981%\n",
      "Accuracy of Z-Boson: 48.4375%\n",
      "Accuracy of Top Quark: 71.68949771689498%\n",
      "Overall Accuracy: 59.50000286102295%\n"
     ]
    }
   ],
   "source": [
    "# Compute the testing accuracy \n",
    "testing_inputs = torch.from_numpy(test_data).float().cuda()\n",
    "testing_targets = torch.from_numpy(test_target).long().cuda()\n",
    "testing_hinputs = torch.from_numpy(test_highl).float().cuda()\n",
    "with torch.no_grad():\n",
    "    \n",
    "    y_pred_test = model(testing_inputs, testing_hinputs)\n",
    "    \n",
    "    #correct = (torch.div(torch.argmax(y_pred_test, dim=1), 2, rounding_mode='floor') == (torch.div(testing_targets, 2, rounding_mode='floor'))).type(torch.FloatTensor)\n",
    "    correct = (torch.argmax(y_pred_test, dim=1) == testing_targets).type(torch.FloatTensor)\n",
    "    wrong = np.zeros((5))\n",
    "    total = np.zeros((5))\n",
    "    for i in range(len(correct)):\n",
    "        if(correct[i] == 0):\n",
    "            #wrong[math.floor(test_target[i] / 2)] += 1\n",
    "            wrong[int(test_target[i])] += 1\n",
    "        #total[math.floor(test_target[i] / 2)] += 1\n",
    "        total[int(test_target[i])] += 1\n",
    "\n",
    "label = [\"Gluon\",\"Light Quark\",\"W-Boson\",\"Z-Boson\",\"Top Quark\"]\n",
    "\n",
    "print(wrong)\n",
    "print(total)\n",
    "\n",
    "length = len(testing_targets)\n",
    "arr = test_target == 0*np.ones(length)\n",
    "for i in range(1,5):\n",
    "    arr = np.concatenate([arr,test_target == i*np.ones(length)])\n",
    "arr = arr.reshape(5,length)\n",
    "\n",
    "for i in range(5):\n",
    "    print(\"Accuracy of \" + label[i] + \": \" + str(float(np.sum(correct.numpy()*arr[i])/np.sum(arr[i])*100))+\"%\")\n",
    "    \n",
    "print(\"Overall Accuracy: \" + str(float(correct.mean())*100) + \"%\")"
   ]
  },
  {
   "cell_type": "code",
   "execution_count": null,
   "id": "1cca9964",
   "metadata": {},
   "outputs": [],
   "source": []
  },
  {
   "cell_type": "code",
   "execution_count": null,
   "id": "e01f2b78",
   "metadata": {},
   "outputs": [],
   "source": []
  }
 ],
 "metadata": {
  "kernelspec": {
   "display_name": "Python 3 (ipykernel)",
   "language": "python",
   "name": "python3"
  },
  "language_info": {
   "codemirror_mode": {
    "name": "ipython",
    "version": 3
   },
   "file_extension": ".py",
   "mimetype": "text/x-python",
   "name": "python",
   "nbconvert_exporter": "python",
   "pygments_lexer": "ipython3",
   "version": "3.9.12"
  }
 },
 "nbformat": 4,
 "nbformat_minor": 5
}
